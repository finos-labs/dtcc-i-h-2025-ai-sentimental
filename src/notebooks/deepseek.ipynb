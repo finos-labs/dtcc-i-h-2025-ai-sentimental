{
 "cells": [
  {
   "cell_type": "code",
   "execution_count": 3,
   "id": "db11dca3-c8a1-4527-8f33-8d6561a29c49",
   "metadata": {},
   "outputs": [
    {
     "name": "stdout",
     "output_type": "stream",
     "text": [
      "Choice 1\n",
      "----------\n",
      "Text:\n",
      "</think>\n",
      "\n",
      "As of my last update in July 2024, here are some of the latest developments in the finance world (note that the news may have evolved since then):\n",
      "\n",
      "### 1. **Central Bank Policies**\n",
      "   - **Federal Reserve**: The Fed has signaled a potential pause in rate hikes amid mixed inflation data and concerns about economic growth. Markets are pricing in possible rate cuts in late 2024 if inflation cools further.\n",
      "   - **European Central Bank (ECB)**: The ECB recently cut interest rates for the first time in 2024, citing easing inflation in the Eurozone, but remains cautious about future moves.\n",
      "   - **Bank of Japan (BOJ)**: The BOJ maintains ultra-loose monetary policy but faces pressure to tighten as the yen weakens and inflation persists.\n",
      "\n",
      "### 2. **Stock Markets**\n",
      "   - **AI-Driven Rally**: Tech stocks, especially AI leaders like NVIDIA, Microsoft, and Alphabet, continue to drive market gains, though valuations are raising concerns about a potential bubble.\n",
      "   - **IPO Activity**: IPO markets are showing signs of revival, with notable listings in tech and green energy sectors.\n",
      "\n",
      "### 3. **Cryptocurrency**\n",
      "   - **Bitcoin and Ethereum**: Crypto markets remain volatile, with Bitcoin hovering around $60,000-$65,000 amid regulatory scrutiny and institutional adoption trends.\n",
      "   - **Regulation**: The U.S. SEC approved spot Ethereum ETFs, a significant milestone for crypto markets, while the EU’s MiCA regulations are set to take effect in 2024.\n",
      "\n",
      "### 4. **Economic Indicators**\n",
      "   - **Inflation**: U.S. CPI data shows inflation cooling to 3.3% YoY (May 2024), but core inflation remains sticky. Eurozone inflation dropped to 2.5%, nearing the ECB’s target.\n",
      "   - **Employment**: U.S. job growth slowed in May, adding 150,000 jobs, while unemployment inched up to 4%.\n",
      "\n",
      "### 5. **Geopolitical Risks**\n",
      "   - **Trade Tensions**: U.S.-China trade disputes persist, particularly over EVs, semiconductors, and green tech tariffs.\n",
      "   - **Energy Markets**: Oil prices remain elevated due to OPEC+ supply cuts and Middle East tensions, with Brent crude around $85/barrel.\n",
      "\n",
      "### 6. **Sustainable Finance**\n",
      "   - **Green Bonds**: Record issuance of green and sustainability-linked bonds in 2024 as corporations and governments prioritize climate goals.\n",
      "   -\n",
      "\n",
      "Stop reason: length\n",
      "\n"
     ]
    }
   ],
   "source": [
    "# Use the API to send a text message to DeepSeek-R1.\n",
    "\n",
    "import boto3\n",
    "import json\n",
    "\n",
    "from botocore.exceptions import ClientError\n",
    "\n",
    "# Create a Bedrock Runtime client in the AWS Region of your choice.\n",
    "client = boto3.client(\"bedrock-runtime\", region_name=\"us-east-2\")\n",
    "\n",
    "# Set the cross Region inference profile ID for DeepSeek-R1\n",
    "model_id = \"us.deepseek.r1-v1:0\"\n",
    "\n",
    "# Define the prompt for the model.\n",
    "#prompt = \"Describe the purpose of a 'hello world' program in one line.\"\n",
    "prompt= \"what is lastes news in finance\"\n",
    "# Embed the prompt in DeepSeek-R1's instruction format.\n",
    "formatted_prompt = f\"\"\"\n",
    "<｜begin▁of▁sentence｜><｜User｜>{prompt}<｜Assistant｜><think>\\n\n",
    "\"\"\"\n",
    "\n",
    "body = json.dumps({\n",
    "    \"prompt\": formatted_prompt,\n",
    "    \"max_tokens\": 512,\n",
    "    \"temperature\": 0.5,\n",
    "    \"top_p\": 0.9,\n",
    "})\n",
    "\n",
    "try:\n",
    "    # Invoke the model with the request.\n",
    "    response = client.invoke_model(modelId=model_id, body=body)\n",
    "\n",
    "    # Read the response body.\n",
    "    model_response = json.loads(response[\"body\"].read())\n",
    "    \n",
    "    # Extract choices.\n",
    "    choices = model_response[\"choices\"]\n",
    "    \n",
    "    # Print choices.\n",
    "    for index, choice in enumerate(choices):\n",
    "        print(f\"Choice {index + 1}\\n----------\")\n",
    "        print(f\"Text:\\n{choice['text']}\\n\")\n",
    "        print(f\"Stop reason: {choice['stop_reason']}\\n\")\n",
    "except (ClientError, Exception) as e:\n",
    "    print(f\"ERROR: Can't invoke '{model_id}'. Reason: {e}\")\n",
    "    exit(1)\n",
    "\n"
   ]
  },
  {
   "cell_type": "code",
   "execution_count": null,
   "id": "69d90447-5b27-4ea8-8547-587144f19ced",
   "metadata": {},
   "outputs": [],
   "source": [
    "pip install langchain_aws"
   ]
  },
  {
   "cell_type": "code",
   "execution_count": 1,
   "id": "a6930f07-77c3-4f69-9f80-052be7095115",
   "metadata": {},
   "outputs": [
    {
     "name": "stdout",
     "output_type": "stream",
     "text": [
      "content=[{'type': 'text', 'text': \"\\n\\nHello! I'm just a virtual assistant, so I don't have feelings, but I'm here and ready to help you with whatever you need. How are *you* doing today? 😊\"}, {'type': 'reasoning_content', 'reasoning_content': {'text': 'Okay, the user greeted me with \"Hello! How are you today?\" I need to respond appropriately. Since I\\'m an AI, I don\\'t have feelings, but I should acknowledge their greeting and ask how they are in return. Let me make sure my response is friendly and open-ended to encourage them to ask for help if they need it.\\n\\nI should start with a greeting, mention that I don\\'t have feelings but am here to help, then ask about their day. Keep it concise and welcoming. Let me check for any typos or errors. Yeah, that looks good. Alright, time to send the response.\\n', 'signature': ''}}] additional_kwargs={} response_metadata={'ResponseMetadata': {'RequestId': 'f5f5b875-c85f-4b50-9f99-a8f28a6846a9', 'HTTPStatusCode': 200, 'HTTPHeaders': {'date': 'Tue, 10 Jun 2025 17:25:59 GMT', 'content-type': 'application/json', 'content-length': '951', 'connection': 'keep-alive', 'x-amzn-requestid': 'f5f5b875-c85f-4b50-9f99-a8f28a6846a9'}, 'RetryAttempts': 0}, 'stopReason': 'end_turn', 'metrics': {'latencyMs': [1156]}, 'model_name': 'us.deepseek.r1-v1:0'} id='run--ab6a67ba-3e96-445a-b0f3-704dec972991-0' usage_metadata={'input_tokens': 12, 'output_tokens': 171, 'total_tokens': 183, 'input_token_details': {'cache_creation': 0, 'cache_read': 0}}\n"
     ]
    }
   ],
   "source": [
    "from langchain_aws import ChatBedrock\n",
    "\n",
    "# Initialize the Bedrock chat model\n",
    "llm = ChatBedrock(\n",
    "    model=\"us.deepseek.r1-v1:0\",\n",
    "    beta_use_converse_api=True\n",
    ")\n",
    "\n",
    "# Invoke the llm\n",
    "response = llm.invoke(\"Hello! How are you today?\")\n",
    "print(response)"
   ]
  }
 ],
 "metadata": {
  "kernelspec": {
   "display_name": "conda_python3",
   "language": "python",
   "name": "conda_python3"
  },
  "language_info": {
   "codemirror_mode": {
    "name": "ipython",
    "version": 3
   },
   "file_extension": ".py",
   "mimetype": "text/x-python",
   "name": "python",
   "nbconvert_exporter": "python",
   "pygments_lexer": "ipython3",
   "version": "3.10.18"
  }
 },
 "nbformat": 4,
 "nbformat_minor": 5
}
