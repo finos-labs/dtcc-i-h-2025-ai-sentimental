{
 "cells": [
  {
   "cell_type": "code",
   "execution_count": 1,
   "id": "cfb989c6-34f5-4fd4-8c98-558fe90f606e",
   "metadata": {},
   "outputs": [
    {
     "name": "stdout",
     "output_type": "stream",
     "text": [
      "\u001b[31mERROR: pip's dependency resolver does not currently take into account all the packages that are installed. This behaviour is the source of the following dependency conflicts.\n",
      "sparkmagic 0.21.0 requires pandas<2.0.0,>=0.17.1, but you have pandas 2.3.0 which is incompatible.\u001b[0m\u001b[31m\n",
      "\u001b[0mNote: you may need to restart the kernel to use updated packages.\n"
     ]
    }
   ],
   "source": [
    "%pip install -qU langchain langchain-openai langchain-community langchain-experimental pandas"
   ]
  },
  {
   "cell_type": "code",
   "execution_count": 2,
   "id": "299afab4-5ee2-4149-9b87-050853023191",
   "metadata": {},
   "outputs": [
    {
     "name": "stdout",
     "output_type": "stream",
     "text": [
      "--2025-06-10 17:31:11--  https://web.stanford.edu/class/archive/cs/cs109/cs109.1166/stuff/titanic.csv\n",
      "Resolving web.stanford.edu (web.stanford.edu)... 171.67.215.200, 2607:f6d0:0:925a::ab43:d7c8\n",
      "Connecting to web.stanford.edu (web.stanford.edu)|171.67.215.200|:443... connected.\n",
      "HTTP request sent, awaiting response... 200 OK\n",
      "Length: 44225 (43K) [text/csv]\n",
      "Saving to: ‘titanic.csv’\n",
      "\n",
      "100%[======================================>] 44,225      --.-K/s   in 0.1s    \n",
      "\n",
      "2025-06-10 17:31:12 (416 KB/s) - ‘titanic.csv’ saved [44225/44225]\n",
      "\n"
     ]
    }
   ],
   "source": [
    "!wget https://web.stanford.edu/class/archive/cs/cs109/cs109.1166/stuff/titanic.csv -O titanic.csv"
   ]
  },
  {
   "cell_type": "code",
   "execution_count": 9,
   "id": "8123d6c9-cb49-4a47-9466-c970c33b7928",
   "metadata": {},
   "outputs": [
    {
     "name": "stdout",
     "output_type": "stream",
     "text": [
      "(11095, 11)\n",
      "['Security Code', 'Security Name', 'Company Name', 'Ex Date', 'Purpose', 'Record Date', 'BC Start Date', ' BC End Date\\t', 'ND Start Date', 'ND End Date', 'Actual Payment Date']\n"
     ]
    }
   ],
   "source": [
    "import pandas as pd\n",
    "\n",
    "df = pd.read_csv(\"data/Corporate_Actions.csv\")\n",
    "print(df.shape)\n",
    "print(df.columns.tolist())"
   ]
  },
  {
   "cell_type": "code",
   "execution_count": null,
   "id": "264e6d2e-cb23-41a9-9ff5-84fa6762eca5",
   "metadata": {},
   "outputs": [],
   "source": [
    "from langchain_community.utilities import SQLDatabase\n",
    "from sqlalchemy import create_engine\n",
    "\n",
    "engine = create_engine(\"sqlite:///corporate.db\")\n",
    "df.to_sql(\"corporate_action\", engine, index=False)"
   ]
  },
  {
   "cell_type": "code",
   "execution_count": null,
   "id": "6177baf9-b23a-467f-be33-b94877aae9b6",
   "metadata": {},
   "outputs": [],
   "source": [
    "db = SQLDatabase(engine=engine)\n",
    "print(db.dialect)\n",
    "print(db.get_usable_table_names())\n",
    "print(db.run(\"SELECT * FROM corporate_action ;\"))"
   ]
  },
  {
   "cell_type": "code",
   "execution_count": 19,
   "id": "2a45c125-ea7e-48d0-80a5-ff2e39a0d154",
   "metadata": {},
   "outputs": [],
   "source": [
    "# Ensure your AWS credentials are configured\n",
    "\n",
    "from langchain.chat_models import init_chat_model\n",
    "\n",
    "llm = init_chat_model(\"us.anthropic.claude-3-5-sonnet-20240620-v1:0\", model_provider=\"bedrock_converse\")"
   ]
  },
  {
   "cell_type": "code",
   "execution_count": null,
   "id": "98e5e26f-314f-43c1-93e0-1729316c946b",
   "metadata": {},
   "outputs": [],
   "source": []
  },
  {
   "cell_type": "code",
   "execution_count": 20,
   "id": "e0e15796-7ebc-4d2c-a566-6dfa9731a48e",
   "metadata": {},
   "outputs": [],
   "source": [
    "from langchain_community.agent_toolkits import create_sql_agent\n",
    "\n",
    "agent_executor = create_sql_agent(llm, db=db, agent_type=\"openai-tools\", verbose=True)"
   ]
  },
  {
   "cell_type": "code",
   "execution_count": 21,
   "id": "fe150408-26ac-4182-8de1-9187696386b0",
   "metadata": {},
   "outputs": [
    {
     "name": "stdout",
     "output_type": "stream",
     "text": [
      "\n",
      "\n",
      "\u001b[1m> Entering new SQL Agent Executor chain...\u001b[0m\n",
      "\u001b[32;1m\u001b[1;3m\n",
      "Invoking: `sql_db_list_tables` with `{'tool_input': ''}`\n",
      "responded: [{'type': 'tool_use', 'name': 'sql_db_list_tables', 'id': 'tooluse_RE-IgItFQsa4gO3hSQ393w', 'index': 0, 'input': '{\"tool_input\": \"\"}'}]\n",
      "\n",
      "\u001b[0m\u001b[38;5;200m\u001b[1;3mcorporate, corporate_action\u001b[0m\u001b[32;1m\u001b[1;3m\n",
      "Invoking: `sql_db_schema` with `{'table_names': 'corporate, corporate_action'}`\n",
      "responded: [{'type': 'text', 'text': \"\\n\\nIt seems the most relevant tables for this query are 'corporate' and 'corporate_action'. Let's check their schemas to see which one contains dividend information.\", 'index': 0}, {'type': 'tool_use', 'name': 'sql_db_schema', 'id': 'tooluse_ZgK-r9ZFTMWZEkULbbA-BQ', 'index': 1, 'input': '{\"table_names\": \"corporate, corporate_action\"}'}]\n",
      "\n",
      "\u001b[0m\u001b[33;1m\u001b[1;3m\n",
      "CREATE TABLE corporate (\n",
      "\t\"Security Code\" BIGINT, \n",
      "\t\"Security Name\" TEXT, \n",
      "\t\"Company Name\" TEXT, \n",
      "\t\"Ex Date\" TEXT, \n",
      "\t\"Purpose\" TEXT, \n",
      "\t\"Record Date\" TEXT, \n",
      "\t\"BC Start Date\" TEXT, \n",
      "\t\" BC End Date\t\" TEXT, \n",
      "\t\"ND Start Date\" TEXT, \n",
      "\t\"ND End Date\" TEXT, \n",
      "\t\"Actual Payment Date\" TEXT\n",
      ")\n",
      "\n",
      "/*\n",
      "3 rows from corporate table:\n",
      "Security Code\tSecurity Name\tCompany Name\tEx Date\tPurpose\tRecord Date\tBC Start Date\t BC End Date\t\tND Start Date\tND End Date\tActual Payment Date\n",
      "540727\tPOOJA\tPoojawestern Metaliks Ltd\t02 Jan 2020\tBonus issue 1:1\t04 Jan 2020\t-\t-\t30 Dec 2019\t02 Jan 2020\t-\n",
      "532467\tHAZOOR\tHazoor Multi Projects Ltd-$\t07 Jan 2020\tE.G.M. \t-\t09 Jan 2020\t15 Jan 2020\t02 Jan 2020\t08 Jan 2020\t-\n",
      "511082\tMAAJTL\tMaa Jagdambe Tradelinks Ltd\t07 Jan 2020\tE.G.M. \t-\t09 Jan 2020\t15 Jan 2020\t02 Jan 2020\t08 Jan 2020\t-\n",
      "*/\n",
      "\n",
      "\n",
      "CREATE TABLE corporate_action (\n",
      "\t\"Security Code\" BIGINT, \n",
      "\t\"Security Name\" TEXT, \n",
      "\t\"Company Name\" TEXT, \n",
      "\t\"Ex Date\" TEXT, \n",
      "\t\"Purpose\" TEXT, \n",
      "\t\"Record Date\" TEXT, \n",
      "\t\"BC Start Date\" TEXT, \n",
      "\t\" BC End Date\t\" TEXT, \n",
      "\t\"ND Start Date\" TEXT, \n",
      "\t\"ND End Date\" TEXT, \n",
      "\t\"Actual Payment Date\" TEXT\n",
      ")\n",
      "\n",
      "/*\n",
      "3 rows from corporate_action table:\n",
      "Security Code\tSecurity Name\tCompany Name\tEx Date\tPurpose\tRecord Date\tBC Start Date\t BC End Date\t\tND Start Date\tND End Date\tActual Payment Date\n",
      "540727\tPOOJA\tPoojawestern Metaliks Ltd\t02 Jan 2020\tBonus issue 1:1\t04 Jan 2020\t-\t-\t30 Dec 2019\t02 Jan 2020\t-\n",
      "532467\tHAZOOR\tHazoor Multi Projects Ltd-$\t07 Jan 2020\tE.G.M. \t-\t09 Jan 2020\t15 Jan 2020\t02 Jan 2020\t08 Jan 2020\t-\n",
      "511082\tMAAJTL\tMaa Jagdambe Tradelinks Ltd\t07 Jan 2020\tE.G.M. \t-\t09 Jan 2020\t15 Jan 2020\t02 Jan 2020\t08 Jan 2020\t-\n",
      "*/\u001b[0m\u001b[32;1m\u001b[1;3m\n",
      "Invoking: `sql_db_query_checker` with `{'query': 'SELECT \"Security Name\", \"Ex Date\", \"Purpose\", \"Actual Payment Date\"\\nFROM corporate_action\\nWHERE \"Company Name\" LIKE \\'%HCLtech%\\' AND \"Purpose\" LIKE \\'%Dividend%\\'\\nORDER BY \"Ex Date\" DESC\\nLIMIT 10'}`\n",
      "responded: [{'type': 'text', 'text': '\\n\\nFrom the schema, we can see that both tables have the same structure. We need to look for dividend information for HCLtech. The \"Purpose\" column might contain this information. Let\\'s query the corporate_action table for HCLtech\\'s dividend information.\\n\\nFirst, I\\'ll construct the query:', 'index': 0}, {'type': 'tool_use', 'name': 'sql_db_query_checker', 'id': 'tooluse_82kOpL_QT_qgmqcLRuF6jg', 'index': 1, 'input': '{\"query\": \"SELECT \\\\\"Security Name\\\\\", \\\\\"Ex Date\\\\\", \\\\\"Purpose\\\\\", \\\\\"Actual Payment Date\\\\\"\\\\nFROM corporate_action\\\\nWHERE \\\\\"Company Name\\\\\" LIKE \\'%HCLtech%\\' AND \\\\\"Purpose\\\\\" LIKE \\'%Dividend%\\'\\\\nORDER BY \\\\\"Ex Date\\\\\" DESC\\\\nLIMIT 10\"}'}]\n",
      "\n",
      "\u001b[0m\u001b[36;1m\u001b[1;3mThe provided query appears to be correct and doesn't contain any of the common mistakes mentioned. Here's the original query reproduced:\n",
      "\n",
      "SELECT \"Security Name\", \"Ex Date\", \"Purpose\", \"Actual Payment Date\"\n",
      "FROM corporate_action\n",
      "WHERE \"Company Name\" LIKE '%HCLtech%' AND \"Purpose\" LIKE '%Dividend%'\n",
      "ORDER BY \"Ex Date\" DESC\n",
      "LIMIT 10\u001b[0m\u001b[32;1m\u001b[1;3m\n",
      "Invoking: `sql_db_query` with `{'query': 'SELECT \"Security Name\", \"Ex Date\", \"Purpose\", \"Actual Payment Date\"\\nFROM corporate_action\\nWHERE \"Company Name\" LIKE \\'%HCLtech%\\' AND \"Purpose\" LIKE \\'%Dividend%\\'\\nORDER BY \"Ex Date\" DESC\\nLIMIT 10'}`\n",
      "responded: [{'type': 'text', 'text': \"\\n\\nThe query looks correct. Now, let's execute it:\", 'index': 0}, {'type': 'tool_use', 'name': 'sql_db_query', 'id': 'tooluse_5qE8bgPaQ2-3_nYWpF1VmA', 'index': 1, 'input': '{\"query\": \"SELECT \\\\\"Security Name\\\\\", \\\\\"Ex Date\\\\\", \\\\\"Purpose\\\\\", \\\\\"Actual Payment Date\\\\\"\\\\nFROM corporate_action\\\\nWHERE \\\\\"Company Name\\\\\" LIKE \\'%HCLtech%\\' AND \\\\\"Purpose\\\\\" LIKE \\'%Dividend%\\'\\\\nORDER BY \\\\\"Ex Date\\\\\" DESC\\\\nLIMIT 10\"}'}]\n",
      "\n",
      "\u001b[0m\u001b[36;1m\u001b[1;3m\u001b[0m\u001b[32;1m\u001b[1;3m\n",
      "Invoking: `sql_db_query_checker` with `{'query': 'SELECT DISTINCT \"Company Name\"\\nFROM corporate_action\\nWHERE \"Company Name\" LIKE \\'%HCL%\\'\\nLIMIT 10'}`\n",
      "responded: [{'type': 'text', 'text': \"\\n\\n\\n\\nIt seems that the query didn't return any results. This could mean that either there's no dividend information for HCLtech in the database, or the company name might be stored differently. Let's try a broader search to see if we can find any information about HCLtech:\", 'index': 0}, {'type': 'tool_use', 'name': 'sql_db_query_checker', 'id': 'tooluse_e509IyaXTeaLztf9wpox6w', 'index': 1, 'input': '{\"query\": \"SELECT DISTINCT \\\\\"Company Name\\\\\"\\\\nFROM corporate_action\\\\nWHERE \\\\\"Company Name\\\\\" LIKE \\'%HCL%\\'\\\\nLIMIT 10\"}'}]\n",
      "\n",
      "\u001b[0m\u001b[36;1m\u001b[1;3mSELECT DISTINCT \"Company Name\"\n",
      "FROM corporate_action\n",
      "WHERE \"Company Name\" LIKE '%HCL%'\n",
      "LIMIT 10\u001b[0m\u001b[32;1m\u001b[1;3m\n",
      "Invoking: `sql_db_query` with `{'query': 'SELECT DISTINCT \"Company Name\"\\nFROM corporate_action\\nWHERE \"Company Name\" LIKE \\'%HCL%\\'\\nLIMIT 10'}`\n",
      "responded: [{'type': 'text', 'text': \"\\n\\n\\n\\nThe query looks correct. Let's execute it:\", 'index': 0}, {'type': 'tool_use', 'name': 'sql_db_query', 'id': 'tooluse_OAI-isdOT0qK7HcTUVoZfQ', 'index': 1, 'input': '{\"query\": \"SELECT DISTINCT \\\\\"Company Name\\\\\"\\\\nFROM corporate_action\\\\nWHERE \\\\\"Company Name\\\\\" LIKE \\'%HCL%\\'\\\\nLIMIT 10\"}'}]\n",
      "\n",
      "\u001b[0m\u001b[36;1m\u001b[1;3m[('HCL Technologies Ltd',), ('GHCL Ltd',), ('GHCL Textiles Ltd',)]\u001b[0m\u001b[32;1m\u001b[1;3m\n",
      "Invoking: `sql_db_query_checker` with `{'query': 'SELECT \"Security Name\", \"Ex Date\", \"Purpose\", \"Actual Payment Date\"\\nFROM corporate_action\\nWHERE \"Company Name\" = \\'HCL Technologies Ltd\\' AND \"Purpose\" LIKE \\'%Dividend%\\'\\nORDER BY \"Ex Date\" DESC\\nLIMIT 10'}`\n",
      "responded: [{'type': 'text', 'text': '\\n\\n\\n\\nNow we can see that the correct company name is \"HCL Technologies Ltd\". Let\\'s modify our original query with this information:', 'index': 0}, {'type': 'tool_use', 'name': 'sql_db_query_checker', 'id': 'tooluse_7pvFNZ_TTH2j7VwIEbiZCA', 'index': 1, 'input': '{\"query\": \"SELECT \\\\\"Security Name\\\\\", \\\\\"Ex Date\\\\\", \\\\\"Purpose\\\\\", \\\\\"Actual Payment Date\\\\\"\\\\nFROM corporate_action\\\\nWHERE \\\\\"Company Name\\\\\" = \\'HCL Technologies Ltd\\' AND \\\\\"Purpose\\\\\" LIKE \\'%Dividend%\\'\\\\nORDER BY \\\\\"Ex Date\\\\\" DESC\\\\nLIMIT 10\"}'}]\n",
      "\n",
      "\u001b[0m\u001b[36;1m\u001b[1;3mThe query appears to be correct and doesn't contain any of the common mistakes mentioned. Here's the original query reproduced:\n",
      "\n",
      "SELECT \"Security Name\", \"Ex Date\", \"Purpose\", \"Actual Payment Date\"\n",
      "FROM corporate_action\n",
      "WHERE \"Company Name\" = 'HCL Technologies Ltd' AND \"Purpose\" LIKE '%Dividend%'\n",
      "ORDER BY \"Ex Date\" DESC\n",
      "LIMIT 10\u001b[0m\u001b[32;1m\u001b[1;3m\n",
      "Invoking: `sql_db_query` with `{'query': 'SELECT \"Security Name\", \"Ex Date\", \"Purpose\", \"Actual Payment Date\"\\nFROM corporate_action\\nWHERE \"Company Name\" = \\'HCL Technologies Ltd\\' AND \"Purpose\" LIKE \\'%Dividend%\\'\\nORDER BY \"Ex Date\" DESC\\nLIMIT 10'}`\n",
      "responded: [{'type': 'text', 'text': \"\\n\\n\\n\\n\\n\\nThe query looks good. Let's execute it:\", 'index': 0}, {'type': 'tool_use', 'name': 'sql_db_query', 'id': 'tooluse_AkQC5qPPR6aTtepbW5A-6g', 'index': 1, 'input': '{\"query\": \"SELECT \\\\\"Security Name\\\\\", \\\\\"Ex Date\\\\\", \\\\\"Purpose\\\\\", \\\\\"Actual Payment Date\\\\\"\\\\nFROM corporate_action\\\\nWHERE \\\\\"Company Name\\\\\" = \\'HCL Technologies Ltd\\' AND \\\\\"Purpose\\\\\" LIKE \\'%Dividend%\\'\\\\nORDER BY \\\\\"Ex Date\\\\\" DESC\\\\nLIMIT 10\"}'}]\n",
      "\n",
      "\u001b[0m\u001b[36;1m\u001b[1;3m[('HCLTECH', '29 Apr 2021', 'Interim Dividend - Rs. - 6.0000', '-'), ('HCLTECH', '29 Apr 2021', 'Special Dividend - Rs. - 10.0000', '-'), ('HCLTECH', '28 Apr 2025', 'Interim Dividend - Rs. - 18.0000', '-'), ('HCLTECH', '28 Apr 2023', 'Interim Dividend - Rs. - 18.0000', '-'), ('HCLTECH', '28 Apr 2022', 'Interim Dividend - Rs. - 18.0000', '-'), ('HCLTECH', '27 Jul 2021', 'Interim Dividend - Rs. - 6.0000', '-'), ('HCLTECH', '24 Jan 2020', 'Interim Dividend - Rs. - 2.0000', '-'), ('HCLTECH', '23 Jul 2024', 'Interim Dividend - Rs. - 12.0000', '-'), ('HCLTECH', '23 Jul 2020', 'Interim Dividend - Rs. - 2.0000', '-'), ('HCLTECH', '22 Oct 2024', 'Interim Dividend - Rs. - 12.0000', '-')]\u001b[0m\u001b[32;1m\u001b[1;3m[{'type': 'text', 'text': '\\n\\n\\n\\n\\n\\nBased on the query results, I can provide you with information about the dividends paid by HCL Technologies Ltd (HCLtech):\\n\\n1. The most recent dividend payment was an Interim Dividend of Rs. 18.0000 per share, with an Ex-Date of 28 Apr 2023.\\n\\n2. In the previous year (2022), they also paid an Interim Dividend of Rs. 18.0000 per share, with an Ex-Date of 28 Apr 2022.\\n\\n3. In 2021, they paid multiple dividends:\\n   - Interim Dividend of Rs. 6.0000 and a Special Dividend of Rs. 10.0000, both with an Ex-Date of 29 Apr 2021.\\n   - Another Interim Dividend of Rs. 6.0000 with an Ex-Date of 27 Jul 2021.\\n\\n4. In 2020, they paid two Interim Dividends of Rs. 2.0000 each, with Ex-Dates of 24 Jan 2020 and 23 Jul 2020.\\n\\n5. There are also future dividend payments listed in the database:\\n   - Interim Dividend of Rs. 18.0000 scheduled for 28 Apr 2025.\\n   - Two Interim Dividends of Rs. 12.0000 each scheduled for 23 Jul 2024 and 22 Oct 2024.\\n\\nIt\\'s worth noting that the \"Actual Payment Date\" is not provided in the database for any of these dividends. The Ex-Date is the date on which the stock begins trading without the value of the dividend included in the stock price.\\n\\nHCL Technologies Ltd appears to have a history of paying regular interim dividends, with amounts varying from Rs. 2.0000 to Rs. 18.0000 per share. They also paid a special dividend in 2021. The trend shows an increase in dividend amounts over the years, with the most recent payments being Rs. 18.0000 per share.', 'index': 0}]\u001b[0m\n",
      "\n",
      "\u001b[1m> Finished chain.\u001b[0m\n"
     ]
    },
    {
     "data": {
      "text/plain": [
       "{'input': \"what's Dividend paid by HCLtech\",\n",
       " 'output': [{'type': 'text',\n",
       "   'text': '\\n\\n\\n\\n\\n\\nBased on the query results, I can provide you with information about the dividends paid by HCL Technologies Ltd (HCLtech):\\n\\n1. The most recent dividend payment was an Interim Dividend of Rs. 18.0000 per share, with an Ex-Date of 28 Apr 2023.\\n\\n2. In the previous year (2022), they also paid an Interim Dividend of Rs. 18.0000 per share, with an Ex-Date of 28 Apr 2022.\\n\\n3. In 2021, they paid multiple dividends:\\n   - Interim Dividend of Rs. 6.0000 and a Special Dividend of Rs. 10.0000, both with an Ex-Date of 29 Apr 2021.\\n   - Another Interim Dividend of Rs. 6.0000 with an Ex-Date of 27 Jul 2021.\\n\\n4. In 2020, they paid two Interim Dividends of Rs. 2.0000 each, with Ex-Dates of 24 Jan 2020 and 23 Jul 2020.\\n\\n5. There are also future dividend payments listed in the database:\\n   - Interim Dividend of Rs. 18.0000 scheduled for 28 Apr 2025.\\n   - Two Interim Dividends of Rs. 12.0000 each scheduled for 23 Jul 2024 and 22 Oct 2024.\\n\\nIt\\'s worth noting that the \"Actual Payment Date\" is not provided in the database for any of these dividends. The Ex-Date is the date on which the stock begins trading without the value of the dividend included in the stock price.\\n\\nHCL Technologies Ltd appears to have a history of paying regular interim dividends, with amounts varying from Rs. 2.0000 to Rs. 18.0000 per share. They also paid a special dividend in 2021. The trend shows an increase in dividend amounts over the years, with the most recent payments being Rs. 18.0000 per share.',\n",
       "   'index': 0}]}"
      ]
     },
     "execution_count": 21,
     "metadata": {},
     "output_type": "execute_result"
    }
   ],
   "source": [
    "agent_executor.invoke({\"input\": \"what's Dividend paid by HCLtech\"})"
   ]
  },
  {
   "cell_type": "code",
   "execution_count": 16,
   "id": "ef9d6f82-975f-4bb4-b742-1960ef9434ca",
   "metadata": {},
   "outputs": [
    {
     "name": "stdout",
     "output_type": "stream",
     "text": [
      "\n",
      "\n",
      "\u001b[1m> Entering new SQL Agent Executor chain...\u001b[0m\n",
      "\u001b[32;1m\u001b[1;3m\n",
      "Invoking: `sql_db_list_tables` with `{'tool_input': ''}`\n",
      "responded: [{'type': 'text', 'text': '  Only after that I should formulate the actual query to answer the question.\\n\\nTo start, let me list the tables in the database:', 'index': 0}, {'type': 'tool_use', 'name': 'sql_db_list_tables', 'id': 'tooluse_l5BCW_M3QIOdr0ZYUBb6VQ', 'index': 1, 'input': '{\"tool_input\": \"\"}'}]\n",
      "\n",
      "\u001b[0m\u001b[38;5;200m\u001b[1;3mcorporate, corporate_action\u001b[0m\u001b[32;1m\u001b[1;3m\n",
      "Invoking: `sql_db_schema` with `{'table_names': 'corporate_action'}`\n",
      "responded: [{'type': 'text', 'text': \"\\n\\nBased on the table names, it looks like the 'corporate_action' table might contain the information we need about bonus issues. Let's check its schema:\", 'index': 0}, {'type': 'tool_use', 'name': 'sql_db_schema', 'id': 'tooluse_nXSCEsu9RWGcRViLOXGl-A', 'index': 1, 'input': '{\"table_names\": \"corporate_action\"}'}]\n",
      "\n",
      "\u001b[0m\u001b[33;1m\u001b[1;3m\n",
      "CREATE TABLE corporate_action (\n",
      "\t\"Security Code\" BIGINT, \n",
      "\t\"Security Name\" TEXT, \n",
      "\t\"Company Name\" TEXT, \n",
      "\t\"Ex Date\" TEXT, \n",
      "\t\"Purpose\" TEXT, \n",
      "\t\"Record Date\" TEXT, \n",
      "\t\"BC Start Date\" TEXT, \n",
      "\t\" BC End Date\t\" TEXT, \n",
      "\t\"ND Start Date\" TEXT, \n",
      "\t\"ND End Date\" TEXT, \n",
      "\t\"Actual Payment Date\" TEXT\n",
      ")\n",
      "\n",
      "/*\n",
      "3 rows from corporate_action table:\n",
      "Security Code\tSecurity Name\tCompany Name\tEx Date\tPurpose\tRecord Date\tBC Start Date\t BC End Date\t\tND Start Date\tND End Date\tActual Payment Date\n",
      "540727\tPOOJA\tPoojawestern Metaliks Ltd\t02 Jan 2020\tBonus issue 1:1\t04 Jan 2020\t-\t-\t30 Dec 2019\t02 Jan 2020\t-\n",
      "532467\tHAZOOR\tHazoor Multi Projects Ltd-$\t07 Jan 2020\tE.G.M. \t-\t09 Jan 2020\t15 Jan 2020\t02 Jan 2020\t08 Jan 2020\t-\n",
      "511082\tMAAJTL\tMaa Jagdambe Tradelinks Ltd\t07 Jan 2020\tE.G.M. \t-\t09 Jan 2020\t15 Jan 2020\t02 Jan 2020\t08 Jan 2020\t-\n",
      "*/\u001b[0m\u001b[32;1m\u001b[1;3m\n",
      "Invoking: `sql_db_query_checker` with `{'query': 'SELECT \"Security Name\", \"Company Name\", \"Ex Date\", \"Purpose\"\\nFROM corporate_action\\nWHERE (\"Security Name\" LIKE \\'%BPCL%\\' OR \"Company Name\" LIKE \\'%BPCL%\\')\\n  AND \"Purpose\" LIKE \\'%Bonus issue%\\'\\n  AND \"Ex Date\" LIKE \\'2025%\\'\\nLIMIT 10'}`\n",
      "responded: [{'type': 'text', 'text': '\\n\\nNow that we have the schema, let\\'s construct a query to find the bonus issue for BPCL security in 2025. We need to:\\n1. Filter for BPCL in the \"Security Name\" or \"Company Name\" column\\n2. Filter for bonus issues in the \"Purpose\" column\\n3. Filter for dates in 2025 in the \"Ex Date\" column\\n4. Limit the results to 10 as per our guidelines\\n\\nLet\\'s write the query and check it:', 'index': 0}, {'type': 'tool_use', 'name': 'sql_db_query_checker', 'id': 'tooluse_NgH4oXd2RQiT0OeowUNkSg', 'index': 1, 'input': '{\"query\": \"SELECT \\\\\"Security Name\\\\\", \\\\\"Company Name\\\\\", \\\\\"Ex Date\\\\\", \\\\\"Purpose\\\\\"\\\\nFROM corporate_action\\\\nWHERE (\\\\\"Security Name\\\\\" LIKE \\'%BPCL%\\' OR \\\\\"Company Name\\\\\" LIKE \\'%BPCL%\\')\\\\n  AND \\\\\"Purpose\\\\\" LIKE \\'%Bonus issue%\\'\\\\n  AND \\\\\"Ex Date\\\\\" LIKE \\'2025%\\'\\\\nLIMIT 10\"}'}]\n",
      "\n",
      "\u001b[0m\u001b[36;1m\u001b[1;3mHere's the SQL query with no modifications, as no common mistakes were found:\n",
      "\n",
      "SELECT \"Security Name\", \"Company Name\", \"Ex Date\", \"Purpose\"\n",
      "FROM corporate_action\n",
      "WHERE (\"Security Name\" LIKE '%BPCL%' OR \"Company Name\" LIKE '%BPCL%')\n",
      "  AND \"Purpose\" LIKE '%Bonus issue%'\n",
      "  AND \"Ex Date\" LIKE '2025%'\n",
      "LIMIT 10\u001b[0m\u001b[32;1m\u001b[1;3m\n",
      "Invoking: `sql_db_query` with `{'query': 'SELECT \"Security Name\", \"Company Name\", \"Ex Date\", \"Purpose\"\\nFROM corporate_action\\nWHERE (\"Security Name\" LIKE \\'%BPCL%\\' OR \"Company Name\" LIKE \\'%BPCL%\\')\\n  AND \"Purpose\" LIKE \\'%Bonus issue%\\'\\n  AND \"Ex Date\" LIKE \\'2025%\\'\\nLIMIT 10'}`\n",
      "responded: [{'type': 'text', 'text': \"\\n\\nThe query looks correct. Now let's execute it:\", 'index': 0}, {'type': 'tool_use', 'name': 'sql_db_query', 'id': 'tooluse_4Ei8MfmFR1mB3WzXVCGuRA', 'index': 1, 'input': '{\"query\": \"SELECT \\\\\"Security Name\\\\\", \\\\\"Company Name\\\\\", \\\\\"Ex Date\\\\\", \\\\\"Purpose\\\\\"\\\\nFROM corporate_action\\\\nWHERE (\\\\\"Security Name\\\\\" LIKE \\'%BPCL%\\' OR \\\\\"Company Name\\\\\" LIKE \\'%BPCL%\\')\\\\n  AND \\\\\"Purpose\\\\\" LIKE \\'%Bonus issue%\\'\\\\n  AND \\\\\"Ex Date\\\\\" LIKE \\'2025%\\'\\\\nLIMIT 10\"}'}]\n",
      "\n",
      "\u001b[0m\u001b[36;1m\u001b[1;3m\u001b[0m\u001b[32;1m\u001b[1;3m\n",
      "Invoking: `sql_db_query_checker` with `{'query': 'SELECT \"Security Name\", \"Company Name\", \"Ex Date\", \"Purpose\"\\nFROM corporate_action\\nWHERE (\"Security Name\" LIKE \\'%BPCL%\\' OR \"Company Name\" LIKE \\'%BPCL%\\')\\nLIMIT 10'}`\n",
      "responded: [{'type': 'text', 'text': \"\\n\\nThe query ran successfully, but it didn't return any results. This suggests that there is no bonus issue record for BPCL in the year 2025 in our database.\\n\\nTo provide a more informative answer, let's check if there are any corporate actions for BPCL at all, regardless of the year or type of action:\", 'index': 0}, {'type': 'tool_use', 'name': 'sql_db_query_checker', 'id': 'tooluse_3GNAhjZEQnmWjdfMoK8dKA', 'index': 1, 'input': '{\"query\": \"SELECT \\\\\"Security Name\\\\\", \\\\\"Company Name\\\\\", \\\\\"Ex Date\\\\\", \\\\\"Purpose\\\\\"\\\\nFROM corporate_action\\\\nWHERE (\\\\\"Security Name\\\\\" LIKE \\'%BPCL%\\' OR \\\\\"Company Name\\\\\" LIKE \\'%BPCL%\\')\\\\nLIMIT 10\"}'}]\n",
      "\n",
      "\u001b[0m\u001b[36;1m\u001b[1;3mThe original query appears to be free from the common mistakes you've listed. Here's the reproduced query:\n",
      "\n",
      "SELECT \"Security Name\", \"Company Name\", \"Ex Date\", \"Purpose\"\n",
      "FROM corporate_action\n",
      "WHERE (\"Security Name\" LIKE '%BPCL%' OR \"Company Name\" LIKE '%BPCL%')\n",
      "LIMIT 10\n",
      "\n",
      "This query:\n",
      "- Uses proper quoting for column names\n",
      "- Has correct LIKE syntax\n",
      "- Doesn't use any of the problematic constructs mentioned (NOT IN with NULL, UNION, BETWEEN, etc.)\n",
      "- Doesn't involve joins or function calls that could be problematic\n",
      "- Uses consistent data types in its predicates\n",
      "\n",
      "Therefore, no changes are necessary.\u001b[0m\u001b[32;1m\u001b[1;3m\n",
      "Invoking: `sql_db_query` with `{'query': 'SELECT \"Security Name\", \"Company Name\", \"Ex Date\", \"Purpose\"\\nFROM corporate_action\\nWHERE (\"Security Name\" LIKE \\'%BPCL%\\' OR \"Company Name\" LIKE \\'%BPCL%\\')\\nLIMIT 10'}`\n",
      "responded: [{'type': 'text', 'text': \"\\n\\n\\n\\nNow, let's execute this query:\", 'index': 0}, {'type': 'tool_use', 'name': 'sql_db_query', 'id': 'tooluse_ZCk2TtbKTeyMx8nWO3tivg', 'index': 1, 'input': '{\"query\": \"SELECT \\\\\"Security Name\\\\\", \\\\\"Company Name\\\\\", \\\\\"Ex Date\\\\\", \\\\\"Purpose\\\\\"\\\\nFROM corporate_action\\\\nWHERE (\\\\\"Security Name\\\\\" LIKE \\'%BPCL%\\' OR \\\\\"Company Name\\\\\" LIKE \\'%BPCL%\\')\\\\nLIMIT 10\"}'}]\n",
      "\n",
      "\u001b[0m\u001b[36;1m\u001b[1;3m[('BPCL', 'Bharat Petroleum Corporation Ltd', '23 Mar 2020', 'Interim Dividend - Rs. - 16.5000'), ('BPCL', 'Bharat Petroleum Corporation Ltd', '17 Feb 2021', 'Interim Dividend - Rs. - 16.0000'), ('BPCL', 'Bharat Petroleum Corporation Ltd', '25 Mar 2021', 'Interim Dividend - Rs. - 5.0000'), ('BPCL', 'Bharat Petroleum Corporation Ltd', '16 Sep 2021', 'Final Dividend - Rs. - 23.0000'), ('BPCL', 'Bharat Petroleum Corporation Ltd', '16 Sep 2021', 'Special Dividend - Rs. - 35.0000'), ('BPCL', 'Bharat Petroleum Corporation Ltd', '11 Nov 2021', 'Interim Dividend - Rs. - 5.0000'), ('BPCL', 'Bharat Petroleum Corporation Ltd', '10 Feb 2022', 'Interim Dividend - Rs. - 5.0000'), ('BPCL', 'Bharat Petroleum Corporation Ltd', '19 Aug 2022', 'Final Dividend - Rs. - 6.0000'), ('BPCL', 'Bharat Petroleum Corporation Ltd', '11 Aug 2023', 'Dividend - Rs. - 4.0000'), ('BPCL', 'Bharat Petroleum Corporation Ltd', '12 Dec 2023', 'Interim Dividend - Rs. - 21.0000')]\u001b[0m\u001b[32;1m\u001b[1;3m[{'type': 'text', 'text': \"\\n\\n\\n\\nBased on the information from our database, I can provide the following answer:\\n\\nCurrently, in the year 2025, there is no record of a bonus issue by BPCL (Bharat Petroleum Corporation Ltd) security in our database. \\n\\nThe most recent corporate actions for BPCL in our database are:\\n\\n1. An interim dividend of Rs. 21.0000 with an ex-date of 12 Dec 2023\\n2. A dividend of Rs. 4.0000 with an ex-date of 11 Aug 2023\\n3. A final dividend of Rs. 6.0000 with an ex-date of 19 Aug 2022\\n\\nOur database contains corporate actions for BPCL up to the end of 2023, but there are no records of any bonus issues within this timeframe. It's possible that:\\n\\n1. BPCL hasn't announced any bonus issues for 2025 yet.\\n2. If such an announcement has been made, it hasn't been recorded in our database.\\n3. BPCL might not have plans for a bonus issue in 2025.\\n\\nFor the most up-to-date and accurate information about potential future bonus issues, I recommend checking BPCL's official investor relations website or contacting their investor relations department directly.\", 'index': 0}]\u001b[0m\n",
      "\n",
      "\u001b[1m> Finished chain.\u001b[0m\n"
     ]
    },
    {
     "data": {
      "text/plain": [
       "{'input': 'Curently I am in the year 2025.what is bonus issue by BPCL security',\n",
       " 'output': [{'type': 'text',\n",
       "   'text': \"\\n\\n\\n\\nBased on the information from our database, I can provide the following answer:\\n\\nCurrently, in the year 2025, there is no record of a bonus issue by BPCL (Bharat Petroleum Corporation Ltd) security in our database. \\n\\nThe most recent corporate actions for BPCL in our database are:\\n\\n1. An interim dividend of Rs. 21.0000 with an ex-date of 12 Dec 2023\\n2. A dividend of Rs. 4.0000 with an ex-date of 11 Aug 2023\\n3. A final dividend of Rs. 6.0000 with an ex-date of 19 Aug 2022\\n\\nOur database contains corporate actions for BPCL up to the end of 2023, but there are no records of any bonus issues within this timeframe. It's possible that:\\n\\n1. BPCL hasn't announced any bonus issues for 2025 yet.\\n2. If such an announcement has been made, it hasn't been recorded in our database.\\n3. BPCL might not have plans for a bonus issue in 2025.\\n\\nFor the most up-to-date and accurate information about potential future bonus issues, I recommend checking BPCL's official investor relations website or contacting their investor relations department directly.\",\n",
       "   'index': 0}]}"
      ]
     },
     "execution_count": 16,
     "metadata": {},
     "output_type": "execute_result"
    }
   ],
   "source": [
    "agent_executor.invoke({\"input\": \"Curently I am in the year 2025.what is bonus issue by BPCL security\"})"
   ]
  },
  {
   "cell_type": "code",
   "execution_count": 13,
   "id": "9419885b-0c84-474f-b11d-411d44ff6d41",
   "metadata": {},
   "outputs": [
    {
     "name": "stdout",
     "output_type": "stream",
     "text": [
      "\n",
      "\n",
      "\u001b[1m> Entering new SQL Agent Executor chain...\u001b[0m\n",
      "\u001b[32;1m\u001b[1;3m\n",
      "Invoking: `sql_db_list_tables` with `{'tool_input': ''}`\n",
      "responded: [{'type': 'text', 'text': \"  Finally, I should query the database to answer the question.\\n\\nI don't know the names of the tables in the database, so I'll start by listing them:\", 'index': 0}, {'type': 'tool_use', 'name': 'sql_db_list_tables', 'id': 'tooluse_v3w-oGnNRzKjvj20Ao-GKQ', 'index': 1, 'input': '{\"tool_input\": \"\"}'}]\n",
      "\n",
      "\u001b[0m\u001b[38;5;200m\u001b[1;3mtitanic\u001b[0m\u001b[32;1m\u001b[1;3m[{'type': 'text', 'text': '\\n\\nThe database contains only one table: \"titanic\". This table is unlikely to contain information about my name. As an AI assistant, I don\\'t have a personal name, and the information about me wouldn\\'t be stored in a database about the Titanic.\\n\\nGiven this information, I can confidently say:\\n\\nI don\\'t know. The database available to me contains information about the Titanic, which is not related to my name or identity as an AI assistant.', 'index': 0}]\u001b[0m\n",
      "\n",
      "\u001b[1m> Finished chain.\u001b[0m\n"
     ]
    },
    {
     "data": {
      "text/plain": [
       "{'input': \"what's is your name \",\n",
       " 'output': [{'type': 'text',\n",
       "   'text': '\\n\\nThe database contains only one table: \"titanic\". This table is unlikely to contain information about my name. As an AI assistant, I don\\'t have a personal name, and the information about me wouldn\\'t be stored in a database about the Titanic.\\n\\nGiven this information, I can confidently say:\\n\\nI don\\'t know. The database available to me contains information about the Titanic, which is not related to my name or identity as an AI assistant.',\n",
       "   'index': 0}]}"
      ]
     },
     "execution_count": 13,
     "metadata": {},
     "output_type": "execute_result"
    }
   ],
   "source": [
    "agent_executor.invoke({\"input\": \"what's is your name \"})"
   ]
  }
 ],
 "metadata": {
  "kernelspec": {
   "display_name": "conda_python3",
   "language": "python",
   "name": "conda_python3"
  },
  "language_info": {
   "codemirror_mode": {
    "name": "ipython",
    "version": 3
   },
   "file_extension": ".py",
   "mimetype": "text/x-python",
   "name": "python",
   "nbconvert_exporter": "python",
   "pygments_lexer": "ipython3",
   "version": "3.10.18"
  }
 },
 "nbformat": 4,
 "nbformat_minor": 5
}
