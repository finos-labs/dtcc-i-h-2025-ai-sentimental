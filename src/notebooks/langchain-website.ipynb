{
 "cells": [
  {
   "cell_type": "code",
   "execution_count": 1,
   "id": "919bcaf8-622d-4f6d-9604-8f7fa7bb2244",
   "metadata": {},
   "outputs": [],
   "source": [
    "%%capture --no-stderr\n",
    "%pip install --upgrade --quiet langgraph langchain-community beautifulsoup4"
   ]
  },
  {
   "cell_type": "code",
   "execution_count": 2,
   "id": "f3718f85-f927-44c7-bb9a-1dd80e2613a2",
   "metadata": {},
   "outputs": [],
   "source": [
    "# from langchain_community.document_loaders import WebBaseLoader\n",
    "\n",
    "# urls = [\n",
    "#     \"https://lilianweng.github.io/posts/2024-11-28-reward-hacking/\",\n",
    "#     \"https://lilianweng.github.io/posts/2024-07-07-hallucination/\",\n",
    "#     \"https://lilianweng.github.io/posts/2024-04-12-diffusion-video/\",\n",
    "# ]\n",
    "\n",
    "# docs = [WebBaseLoader(url).load() for url in urls]"
   ]
  },
  {
   "cell_type": "code",
   "execution_count": 3,
   "id": "faef569d-0b91-48f8-9460-1da8c5d9f337",
   "metadata": {},
   "outputs": [
    {
     "name": "stderr",
     "output_type": "stream",
     "text": [
      "USER_AGENT environment variable not set, consider setting it to identify your requests.\n"
     ]
    }
   ],
   "source": [
    "from langchain_community.document_loaders import WebBaseLoader\n",
    "\n",
    "urls = [\n",
    "    \"https://www.thehindubusinessline.com/topic/credit-ratings/\",\n",
    "]\n",
    "\n",
    "docs = [WebBaseLoader(url).load() for url in urls]"
   ]
  },
  {
   "cell_type": "code",
   "execution_count": 4,
   "id": "35dabb6b-fbc9-4d3e-a146-ce7b990e1dc5",
   "metadata": {},
   "outputs": [
    {
     "data": {
      "text/plain": [
       "'Credit ratings News - Latest & Breaking News on credit ratings\\n />\\n\\n\\n\\n\\n\\n\\nSENSEX \\xa0\\xa082,515.14\\n+\\xa0123.42\\n\\nNIFTY \\xa0\\xa025,141.40\\n+\\xa037.15\\n\\nCRUDEOIL \\xa0\\xa05,649.00\\n+\\xa066.00\\n\\nGOLD \\xa0\\xa097,090.00\\n+\\xa0188.00\\n\\nSILVER \\xa0\\xa0105,775.00\\n\\xa0-974.00\\n\\n\\n\\n\\n\\n\\nSENSEX \\xa0\\xa082,515.14\\n+\\xa0123.42\\n\\nNIFTY \\xa0\\xa025,141.40\\n+\\xa037.15\\n\\n\\n\\n\\nNIFTY \\xa0\\xa025,141.40\\n+\\xa037.15\\n\\nCRUDEOIL \\xa0\\xa05,649.00\\n+\\xa066.00\\n\\n\\n\\n\\nCRUDEOIL \\xa0\\xa05,649.00\\n+\\xa066.00\\n\\nGOLD \\xa0\\xa097,090.00\\n+\\xa0188.00\\n\\n\\n\\n\\n\\n\\n\\n\\n\\n \\n\\n\\t\\tCompanies\\n\\t\\t\\t\\n\\n\\n\\n\\n\\t\\tMarkets\\n\\t\\t\\t\\n\\n\\n\\n\\n\\t\\tPortfolio\\n\\t\\t\\t\\n\\n\\n\\n\\n\\t\\tOpinion\\n\\t\\t\\t\\n\\n\\n\\n\\n\\t\\tEconomy\\n\\t\\t\\t\\n\\n\\n\\n\\n\\t\\tPremium\\n\\t\\t\\t\\n\\n\\nFREE TRIAL ACCOUNT  SubscribeLOGIN MENU CLOSEePaperSTOCKSSTORIES\\n\\n\\n\\n\\n            Companies\\n            \\n\\n\\n\\n\\n\\n                            MSME\\n                      \\n\\n\\n\\n\\n            Markets\\n            \\n\\n\\n\\n\\n\\n                            Commodities\\n                      \\n\\n\\n\\n                            Forex\\n                      \\n\\n\\n\\n                            Gold & Silver\\n                      \\n\\n\\n\\n                            Stocks\\n                      \\n\\n\\n\\n                       '"
      ]
     },
     "execution_count": 4,
     "metadata": {},
     "output_type": "execute_result"
    }
   ],
   "source": [
    "docs[0][0].page_content.strip()[:1000]"
   ]
  },
  {
   "cell_type": "code",
   "execution_count": 5,
   "id": "bfe62a43-724d-4732-a5e1-c3640d0c1f6c",
   "metadata": {},
   "outputs": [],
   "source": [
    "from langchain_text_splitters import RecursiveCharacterTextSplitter\n",
    "\n",
    "docs_list = [item for sublist in docs for item in sublist]\n",
    "\n",
    "text_splitter = RecursiveCharacterTextSplitter.from_tiktoken_encoder(\n",
    "    chunk_size=100, chunk_overlap=50\n",
    ")\n",
    "doc_splits = text_splitter.split_documents(docs_list)"
   ]
  },
  {
   "cell_type": "code",
   "execution_count": 6,
   "id": "6a47bb29-ec92-4bc2-b877-a4e2381279da",
   "metadata": {},
   "outputs": [
    {
     "data": {
      "text/plain": [
       "'Credit ratings News - Latest & Breaking News on credit ratings\\n />\\n\\n\\n\\n\\n\\n\\nSENSEX \\xa0\\xa082,515.14\\n+\\xa0123.42\\n\\nNIFTY \\xa0\\xa025,141.40\\n+\\xa037.15\\n\\nCRUDEOIL \\xa0\\xa05,649.00\\n+\\xa066.00\\n\\nGOLD \\xa0\\xa097,090.00\\n+\\xa0188.00'"
      ]
     },
     "execution_count": 6,
     "metadata": {},
     "output_type": "execute_result"
    }
   ],
   "source": [
    "doc_splits[0].page_content.strip()"
   ]
  },
  {
   "cell_type": "code",
   "execution_count": 7,
   "id": "b5b292d7-b270-46fc-bb7b-eb0440b7c99b",
   "metadata": {},
   "outputs": [],
   "source": [
    "from langchain_aws import BedrockEmbeddings\n",
    "\n",
    "embeddings = BedrockEmbeddings(model_id=\"amazon.titan-embed-text-v2:0\")"
   ]
  },
  {
   "cell_type": "code",
   "execution_count": 8,
   "id": "c419b14e-dc91-4294-8273-b060e2c28fca",
   "metadata": {},
   "outputs": [],
   "source": [
    "from langchain_core.vectorstores import InMemoryVectorStore\n",
    "#vectorstore = InMemoryVectorStore(embeddings)\n",
    "vectorstore = InMemoryVectorStore.from_documents(\n",
    "    documents=doc_splits, embedding=embeddings\n",
    ")"
   ]
  },
  {
   "cell_type": "code",
   "execution_count": 9,
   "id": "046eea81-9169-4781-b595-a92f5212a3ad",
   "metadata": {},
   "outputs": [
    {
     "data": {
      "text/plain": [
       "VectorStoreRetriever(tags=['InMemoryVectorStore', 'BedrockEmbeddings'], vectorstore=<langchain_core.vectorstores.in_memory.InMemoryVectorStore object at 0x7f4aa88e7910>, search_kwargs={})"
      ]
     },
     "execution_count": 9,
     "metadata": {},
     "output_type": "execute_result"
    }
   ],
   "source": [
    "retriever = vectorstore.as_retriever()\n",
    "retriever"
   ]
  },
  {
   "cell_type": "code",
   "execution_count": 10,
   "id": "3c1915bd-1ae1-411d-8ff0-deb692ab6306",
   "metadata": {},
   "outputs": [],
   "source": [
    "from langchain.tools.retriever import create_retriever_tool\n",
    "\n",
    "retriever_tool = create_retriever_tool(\n",
    "    retriever,\n",
    "    \"retrieve_blog_posts\",\n",
    "    \"Search and return information about Lilian Weng blog posts.\",\n",
    ")"
   ]
  },
  {
   "cell_type": "code",
   "execution_count": 11,
   "id": "03b22705-dc6f-4cde-ac39-b2645952b1d6",
   "metadata": {},
   "outputs": [
    {
     "data": {
      "text/plain": [
       "'Info-tech\\n\\t\\t\\t\\t\\n\\n\\n\\n\\t\\t\\t\\t\\tBL On Campus\\n\\t\\t\\t\\t\\n\\n\\n\\n\\t\\t\\t\\t\\tData Stories\\n\\t\\t\\t\\t\\n\\n\\n\\n\\t\\t\\t\\t\\tMarketing\\n\\t\\t\\t\\t\\n\\n\\n\\n\\t\\t\\t\\t\\tVideo\\n\\t\\t\\t\\t\\n\\n\\n\\n\\t\\t\\t\\t\\tPodcast\\n\\t\\t\\t\\t\\n\\n\\n\\n\\t\\t\\t\\t\\tPackage\\n\\nPolicy\\n\\nGold & Silver News\\n\\n    \\n\\n    Commodities News\\n\\n    \\n\\n    Personal Finance News\\n\\n    \\n\\n\\n\\t\\t\\tHolidays 2025\\n\\t\\t\\n\\n\\n    Bank Holidays 2025\\n\\n    \\n\\n    NSE Holiday 2025\\n\\n    \\n\\n    BSE Holiday 2025\\n\\n    \\n\\n\\n\\nPopular Sections\\n\\nBACK TO TOPSign into Unlock benefits!Access 10 free stories per monthAccess to comment on every storySign up/Manage to our newslettersGet notified by email for early preview to new features, discounts & offers✕Looks like you are already logged in from more than 3 devices!To continue logging in, remove at least one device from the below listLog outLog Out from all devicesTerms & conditions\\xa0\\xa0|\\xa0\\xa0Institutional Subscriber'"
      ]
     },
     "execution_count": 11,
     "metadata": {},
     "output_type": "execute_result"
    }
   ],
   "source": [
    "retriever_tool.invoke({\"query\": \"types of reward hacking\"})"
   ]
  },
  {
   "cell_type": "code",
   "execution_count": 12,
   "id": "1922a7ef-8148-4a76-b6e7-7fd12df57be1",
   "metadata": {},
   "outputs": [],
   "source": [
    "# Ensure your AWS credentials are configured\n",
    "\n",
    "from langchain.chat_models import init_chat_model\n",
    "\n",
    "llm = init_chat_model(\"us.anthropic.claude-3-5-sonnet-20240620-v1:0\", model_provider=\"bedrock_converse\")"
   ]
  },
  {
   "cell_type": "code",
   "execution_count": 13,
   "id": "db5f1f2a-c0a9-4bee-8b0d-c3cefb1382f7",
   "metadata": {},
   "outputs": [],
   "source": [
    "from langgraph.graph import MessagesState\n",
    "from langchain.chat_models import init_chat_model\n",
    "\n",
    "#response_model = init_chat_model(\"openai:gpt-4.1\", temperature=0)\n",
    "\n",
    "\n",
    "response_model = init_chat_model(\"us.anthropic.claude-3-5-sonnet-20240620-v1:0\", model_provider=\"bedrock_converse\")\n",
    "\n",
    "\n",
    "def generate_query_or_respond(state: MessagesState):\n",
    "    \"\"\"Call the model to generate a response based on the current state. Given\n",
    "    the question, it will decide to retrieve using the retriever tool, or simply respond to the user.\n",
    "    \"\"\"\n",
    "    response = (\n",
    "        response_model\n",
    "        .bind_tools([retriever_tool]).invoke(state[\"messages\"])\n",
    "    )\n",
    "    return {\"messages\": [response]}"
   ]
  },
  {
   "cell_type": "code",
   "execution_count": 14,
   "id": "b8b7b684-57f6-4359-b908-38b58335e630",
   "metadata": {},
   "outputs": [
    {
     "name": "stdout",
     "output_type": "stream",
     "text": [
      "==================================\u001b[1m Ai Message \u001b[0m==================================\n",
      "\n",
      "Hello! Welcome. How can I assist you today? I'm here to help with any questions you might have, particularly about Lilian Weng's blog posts. Is there a specific topic or information you're interested in?\n"
     ]
    }
   ],
   "source": [
    "input = {\"messages\": [{\"role\": \"user\", \"content\": \"hello!\"}]}\n",
    "generate_query_or_respond(input)[\"messages\"][-1].pretty_print()"
   ]
  },
  {
   "cell_type": "code",
   "execution_count": 15,
   "id": "3cb93845-9127-4fe2-b3e1-87eb0dc56756",
   "metadata": {},
   "outputs": [
    {
     "name": "stdout",
     "output_type": "stream",
     "text": [
      "==================================\u001b[1m Ai Message \u001b[0m==================================\n",
      "\n",
      "I apologize, but I don't have any specific information about recent ratings or the outlook for the company DLF. To provide accurate and up-to-date information, I would need to search for the latest data about DLF. \n",
      "\n",
      "However, the tools available to me are limited to searching for information about Lilian Weng's blog posts, which is not relevant to your question about DLF (which I assume is a company name).\n",
      "\n",
      "If you're looking for financial information or stock ratings for DLF, I would recommend checking reliable financial websites, stock market analysis platforms, or contacting a financial advisor who has access to the most recent data about the company.\n",
      "\n",
      "Is there perhaps a different topic you'd like to explore? I'd be happy to help with information that's within my knowledge base or that I can search for using the available tools.\n"
     ]
    }
   ],
   "source": [
    "input = {\n",
    "    \"messages\": [\n",
    "        {\n",
    "            \"role\": \"user\",\n",
    "            \"content\": \"What is outlook of company DLF based on recent rating??\",\n",
    "        }\n",
    "    ]\n",
    "}\n",
    "generate_query_or_respond(input)[\"messages\"][-1].pretty_print()"
   ]
  }
 ],
 "metadata": {
  "kernelspec": {
   "display_name": "conda_python3",
   "language": "python",
   "name": "conda_python3"
  },
  "language_info": {
   "codemirror_mode": {
    "name": "ipython",
    "version": 3
   },
   "file_extension": ".py",
   "mimetype": "text/x-python",
   "name": "python",
   "nbconvert_exporter": "python",
   "pygments_lexer": "ipython3",
   "version": "3.10.18"
  }
 },
 "nbformat": 4,
 "nbformat_minor": 5
}
