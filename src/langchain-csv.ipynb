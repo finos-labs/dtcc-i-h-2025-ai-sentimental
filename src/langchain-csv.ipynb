{
 "cells": [
  {
   "cell_type": "code",
   "execution_count": 1,
   "id": "cfb989c6-34f5-4fd4-8c98-558fe90f606e",
   "metadata": {},
   "outputs": [
    {
     "name": "stdout",
     "output_type": "stream",
     "text": [
      "\u001b[31mERROR: pip's dependency resolver does not currently take into account all the packages that are installed. This behaviour is the source of the following dependency conflicts.\n",
      "sparkmagic 0.21.0 requires pandas<2.0.0,>=0.17.1, but you have pandas 2.3.0 which is incompatible.\u001b[0m\u001b[31m\n",
      "\u001b[0mNote: you may need to restart the kernel to use updated packages.\n"
     ]
    }
   ],
   "source": [
    "%pip install -qU langchain langchain-openai langchain-community langchain-experimental pandas"
   ]
  },
  {
   "cell_type": "code",
   "execution_count": 2,
   "id": "299afab4-5ee2-4149-9b87-050853023191",
   "metadata": {},
   "outputs": [
    {
     "name": "stdout",
     "output_type": "stream",
     "text": [
      "--2025-06-10 17:31:11--  https://web.stanford.edu/class/archive/cs/cs109/cs109.1166/stuff/titanic.csv\n",
      "Resolving web.stanford.edu (web.stanford.edu)... 171.67.215.200, 2607:f6d0:0:925a::ab43:d7c8\n",
      "Connecting to web.stanford.edu (web.stanford.edu)|171.67.215.200|:443... connected.\n",
      "HTTP request sent, awaiting response... 200 OK\n",
      "Length: 44225 (43K) [text/csv]\n",
      "Saving to: ‘titanic.csv’\n",
      "\n",
      "100%[======================================>] 44,225      --.-K/s   in 0.1s    \n",
      "\n",
      "2025-06-10 17:31:12 (416 KB/s) - ‘titanic.csv’ saved [44225/44225]\n",
      "\n"
     ]
    }
   ],
   "source": [
    "!wget https://web.stanford.edu/class/archive/cs/cs109/cs109.1166/stuff/titanic.csv -O titanic.csv"
   ]
  },
  {
   "cell_type": "code",
   "execution_count": 3,
   "id": "8123d6c9-cb49-4a47-9466-c970c33b7928",
   "metadata": {},
   "outputs": [
    {
     "name": "stdout",
     "output_type": "stream",
     "text": [
      "(887, 8)\n",
      "['Survived', 'Pclass', 'Name', 'Sex', 'Age', 'Siblings/Spouses Aboard', 'Parents/Children Aboard', 'Fare']\n"
     ]
    },
    {
     "name": "stderr",
     "output_type": "stream",
     "text": [
      "/home/ec2-user/anaconda3/envs/python3/lib/python3.10/site-packages/pandas/core/computation/expressions.py:21: UserWarning: Pandas requires version '2.8.4' or newer of 'numexpr' (version '2.7.3' currently installed).\n",
      "  from pandas.core.computation.check import NUMEXPR_INSTALLED\n"
     ]
    }
   ],
   "source": [
    "import pandas as pd\n",
    "\n",
    "df = pd.read_csv(\"titanic.csv\")\n",
    "print(df.shape)\n",
    "print(df.columns.tolist())"
   ]
  },
  {
   "cell_type": "code",
   "execution_count": 4,
   "id": "264e6d2e-cb23-41a9-9ff5-84fa6762eca5",
   "metadata": {},
   "outputs": [
    {
     "data": {
      "text/plain": [
       "887"
      ]
     },
     "execution_count": 4,
     "metadata": {},
     "output_type": "execute_result"
    }
   ],
   "source": [
    "from langchain_community.utilities import SQLDatabase\n",
    "from sqlalchemy import create_engine\n",
    "\n",
    "engine = create_engine(\"sqlite:///titanic.db\")\n",
    "df.to_sql(\"titanic\", engine, index=False)"
   ]
  },
  {
   "cell_type": "code",
   "execution_count": 5,
   "id": "6177baf9-b23a-467f-be33-b94877aae9b6",
   "metadata": {},
   "outputs": [
    {
     "name": "stdout",
     "output_type": "stream",
     "text": [
      "sqlite\n",
      "['titanic']\n",
      "[(1, 2, 'Master. Alden Gates Caldwell', 'male', 0.83, 0, 2, 29.0), (0, 3, 'Master. Eino Viljami Panula', 'male', 1.0, 4, 1, 39.6875), (1, 3, 'Miss. Eleanor Ileen Johnson', 'female', 1.0, 1, 1, 11.1333), (1, 2, 'Master. Richard F Becker', 'male', 1.0, 2, 1, 39.0), (1, 1, 'Master. Hudson Trevor Allison', 'male', 0.92, 1, 2, 151.55), (1, 3, 'Miss. Maria Nakid', 'female', 1.0, 0, 2, 15.7417), (0, 3, 'Master. Sidney Leonard Goodwin', 'male', 1.0, 5, 2, 46.9), (1, 3, 'Miss. Helene Barbara Baclini', 'female', 0.75, 2, 1, 19.2583), (1, 3, 'Miss. Eugenie Baclini', 'female', 0.75, 2, 1, 19.2583), (1, 2, 'Master. Viljo Hamalainen', 'male', 0.67, 1, 1, 14.5), (1, 3, 'Master. Bertram Vere Dean', 'male', 1.0, 1, 2, 20.575), (1, 3, 'Master. Assad Alexander Thomas', 'male', 0.42, 0, 1, 8.5167), (1, 2, 'Master. Andre Mallet', 'male', 1.0, 0, 2, 37.0042), (1, 2, 'Master. George Sibley Richards', 'male', 0.83, 1, 1, 18.75)]\n"
     ]
    }
   ],
   "source": [
    "db = SQLDatabase(engine=engine)\n",
    "print(db.dialect)\n",
    "print(db.get_usable_table_names())\n",
    "print(db.run(\"SELECT * FROM titanic WHERE Age < 2;\"))"
   ]
  },
  {
   "cell_type": "code",
   "execution_count": 9,
   "id": "2a45c125-ea7e-48d0-80a5-ff2e39a0d154",
   "metadata": {},
   "outputs": [],
   "source": [
    "# Ensure your AWS credentials are configured\n",
    "\n",
    "from langchain.chat_models import init_chat_model\n",
    "\n",
    "llm = init_chat_model(\"us.anthropic.claude-3-5-sonnet-20240620-v1:0\", model_provider=\"bedrock_converse\")"
   ]
  },
  {
   "cell_type": "code",
   "execution_count": 10,
   "id": "e0e15796-7ebc-4d2c-a566-6dfa9731a48e",
   "metadata": {},
   "outputs": [],
   "source": [
    "from langchain_community.agent_toolkits import create_sql_agent\n",
    "\n",
    "agent_executor = create_sql_agent(llm, db=db, agent_type=\"openai-tools\", verbose=True)"
   ]
  },
  {
   "cell_type": "code",
   "execution_count": 11,
   "id": "fe150408-26ac-4182-8de1-9187696386b0",
   "metadata": {},
   "outputs": [
    {
     "name": "stdout",
     "output_type": "stream",
     "text": [
      "\n",
      "\n",
      "\u001b[1m> Entering new SQL Agent Executor chain...\u001b[0m\n",
      "\u001b[32;1m\u001b[1;3m\n",
      "Invoking: `sql_db_list_tables` with `{'tool_input': ''}`\n",
      "responded: [{'type': 'text', 'text': \"  Finally, I can write and execute a SQL query to answer the question about the average age of survivors.\\n\\nFirst, let's list the tables in the database:\", 'index': 0}, {'type': 'tool_use', 'name': 'sql_db_list_tables', 'id': 'tooluse_WtxPHJN1SOOCnMv2_CNe0w', 'index': 1, 'input': '{\"tool_input\": \"\"}'}]\n",
      "\n",
      "\u001b[0m\u001b[38;5;200m\u001b[1;3mtitanic\u001b[0m\u001b[32;1m\u001b[1;3m\n",
      "Invoking: `sql_db_schema` with `{'table_names': 'titanic'}`\n",
      "responded: [{'type': 'text', 'text': '\\n\\nIt looks like we have a single table named \"titanic\". This table likely contains information about passengers on the Titanic, including survivors. Let\\'s check the schema of this table:', 'index': 0}, {'type': 'tool_use', 'name': 'sql_db_schema', 'id': 'tooluse_uyytcjF_RwWosYG9zgjboA', 'index': 1, 'input': '{\"table_names\": \"titanic\"}'}]\n",
      "\n",
      "\u001b[0m\u001b[33;1m\u001b[1;3m\n",
      "CREATE TABLE titanic (\n",
      "\t\"Survived\" BIGINT, \n",
      "\t\"Pclass\" BIGINT, \n",
      "\t\"Name\" TEXT, \n",
      "\t\"Sex\" TEXT, \n",
      "\t\"Age\" FLOAT, \n",
      "\t\"Siblings/Spouses Aboard\" BIGINT, \n",
      "\t\"Parents/Children Aboard\" BIGINT, \n",
      "\t\"Fare\" FLOAT\n",
      ")\n",
      "\n",
      "/*\n",
      "3 rows from titanic table:\n",
      "Survived\tPclass\tName\tSex\tAge\tSiblings/Spouses Aboard\tParents/Children Aboard\tFare\n",
      "0\t3\tMr. Owen Harris Braund\tmale\t22.0\t1\t0\t7.25\n",
      "1\t1\tMrs. John Bradley (Florence Briggs Thayer) Cumings\tfemale\t38.0\t1\t0\t71.2833\n",
      "1\t3\tMiss. Laina Heikkinen\tfemale\t26.0\t0\t0\t7.925\n",
      "*/\u001b[0m\u001b[32;1m\u001b[1;3m\n",
      "Invoking: `sql_db_query_checker` with `{'query': 'SELECT AVG(Age) as average_age\\nFROM titanic\\nWHERE Survived = 1'}`\n",
      "responded: [{'type': 'text', 'text': '\\n\\nNow that we have the schema, we can see that the \"Survived\" column indicates whether a passenger survived (1) or not (0), and the \"Age\" column contains the age of the passengers. We can use these columns to calculate the average age of survivors.\\n\\nLet\\'s write a SQL query to get the average age of survivors:', 'index': 0}, {'type': 'tool_use', 'name': 'sql_db_query_checker', 'id': 'tooluse_q7sAheFRQVePIcGeqBxb5w', 'index': 1, 'input': '{\"query\": \"SELECT AVG(Age) as average_age\\\\nFROM titanic\\\\nWHERE Survived = 1\"}'}]\n",
      "\n",
      "\u001b[0m\u001b[36;1m\u001b[1;3mThe original query appears to be correct and doesn't contain any of the common mistakes mentioned. Here's the query reproduced:\n",
      "\n",
      "SELECT AVG(Age) as average_age\n",
      "FROM titanic\n",
      "WHERE Survived = 1\n",
      "\n",
      "This query calculates the average age of passengers who survived on the Titanic. It doesn't have any obvious errors related to the listed potential issues.\u001b[0m\u001b[32;1m\u001b[1;3m\n",
      "Invoking: `sql_db_query` with `{'query': 'SELECT AVG(Age) as average_age\\nFROM titanic\\nWHERE Survived = 1'}`\n",
      "responded: [{'type': 'text', 'text': \"\\n\\n\\n\\nThe query looks correct. Now, let's execute it:\", 'index': 0}, {'type': 'tool_use', 'name': 'sql_db_query', 'id': 'tooluse_SHuUvmyfTAeaxV4T_IWsFA', 'index': 1, 'input': '{\"query\": \"SELECT AVG(Age) as average_age\\\\nFROM titanic\\\\nWHERE Survived = 1\"}'}]\n",
      "\n",
      "\u001b[0m\u001b[36;1m\u001b[1;3m[(28.408391812865496,)]\u001b[0m\u001b[32;1m\u001b[1;3m[{'type': 'text', 'text': '\\n\\nBased on the query results, the average age of survivors on the Titanic was approximately 28.41 years old.\\n\\nTo provide a more precise answer to the original question: The average age of survivors on the Titanic was 28.41 years old.', 'index': 0}]\u001b[0m\n",
      "\n",
      "\u001b[1m> Finished chain.\u001b[0m\n"
     ]
    },
    {
     "data": {
      "text/plain": [
       "{'input': \"what's the average age of survivors\",\n",
       " 'output': [{'type': 'text',\n",
       "   'text': '\\n\\nBased on the query results, the average age of survivors on the Titanic was approximately 28.41 years old.\\n\\nTo provide a more precise answer to the original question: The average age of survivors on the Titanic was 28.41 years old.',\n",
       "   'index': 0}]}"
      ]
     },
     "execution_count": 11,
     "metadata": {},
     "output_type": "execute_result"
    }
   ],
   "source": [
    "agent_executor.invoke({\"input\": \"what's the average age of survivors\"})"
   ]
  },
  {
   "cell_type": "code",
   "execution_count": 12,
   "id": "ef9d6f82-975f-4bb4-b742-1960ef9434ca",
   "metadata": {},
   "outputs": [
    {
     "name": "stdout",
     "output_type": "stream",
     "text": [
      "\n",
      "\n",
      "\u001b[1m> Entering new SQL Agent Executor chain...\u001b[0m\n",
      "\u001b[32;1m\u001b[1;3m\n",
      "Invoking: `sql_db_list_tables` with `{'tool_input': ''}`\n",
      "responded: [{'type': 'text', 'text': \"  Finally, I should construct a query to answer the question.\\n\\nLet's begin by listing the tables in the database:\", 'index': 0}, {'type': 'tool_use', 'name': 'sql_db_list_tables', 'id': 'tooluse_rKiP8DEERau1oe0pJ5WQxw', 'index': 1, 'input': '{\"tool_input\": \"\"}'}]\n",
      "\n",
      "\u001b[0m\u001b[38;5;200m\u001b[1;3mtitanic\u001b[0m\u001b[32;1m\u001b[1;3m\n",
      "Invoking: `sql_db_schema` with `{'table_names': 'titanic'}`\n",
      "responded: [{'type': 'text', 'text': '\\n\\nGreat, we have a table named \"titanic\". This table likely contains information about passengers on the Titanic, including their survival status and age. Let\\'s check its schema:', 'index': 0}, {'type': 'tool_use', 'name': 'sql_db_schema', 'id': 'tooluse_6oB4PhiUTOqvtbREMBKXgQ', 'index': 1, 'input': '{\"table_names\": \"titanic\"}'}]\n",
      "\n",
      "\u001b[0m\u001b[33;1m\u001b[1;3m\n",
      "CREATE TABLE titanic (\n",
      "\t\"Survived\" BIGINT, \n",
      "\t\"Pclass\" BIGINT, \n",
      "\t\"Name\" TEXT, \n",
      "\t\"Sex\" TEXT, \n",
      "\t\"Age\" FLOAT, \n",
      "\t\"Siblings/Spouses Aboard\" BIGINT, \n",
      "\t\"Parents/Children Aboard\" BIGINT, \n",
      "\t\"Fare\" FLOAT\n",
      ")\n",
      "\n",
      "/*\n",
      "3 rows from titanic table:\n",
      "Survived\tPclass\tName\tSex\tAge\tSiblings/Spouses Aboard\tParents/Children Aboard\tFare\n",
      "0\t3\tMr. Owen Harris Braund\tmale\t22.0\t1\t0\t7.25\n",
      "1\t1\tMrs. John Bradley (Florence Briggs Thayer) Cumings\tfemale\t38.0\t1\t0\t71.2833\n",
      "1\t3\tMiss. Laina Heikkinen\tfemale\t26.0\t0\t0\t7.925\n",
      "*/\u001b[0m\u001b[32;1m\u001b[1;3m\n",
      "Invoking: `sql_db_query_checker` with `{'query': 'SELECT AVG(Age) as average_age\\nFROM titanic\\nWHERE Survived = 0 AND Age IS NOT NULL'}`\n",
      "responded: [{'type': 'text', 'text': '\\n\\nNow that we have the schema, we can construct a query to find the average age of people who did not survive. We\\'ll use the \"Survived\" column (where 0 indicates not survived) and the \"Age\" column. Let\\'s write the query and check it:', 'index': 0}, {'type': 'tool_use', 'name': 'sql_db_query_checker', 'id': 'tooluse_09WUCua9QWi8zfxqwCvGLA', 'index': 1, 'input': '{\"query\": \"SELECT AVG(Age) as average_age\\\\nFROM titanic\\\\nWHERE Survived = 0 AND Age IS NOT NULL\"}'}]\n",
      "\n",
      "\u001b[0m\u001b[36;1m\u001b[1;3mThe provided query does not contain any of the common mistakes listed. It correctly calculates the average age of passengers who did not survive, excluding NULL age values. Here's the original query reproduced:\n",
      "\n",
      "SELECT AVG(Age) as average_age\n",
      "FROM titanic\n",
      "WHERE Survived = 0 AND Age IS NOT NULL\u001b[0m\u001b[32;1m\u001b[1;3m\n",
      "Invoking: `sql_db_query` with `{'query': 'SELECT AVG(Age) as average_age\\nFROM titanic\\nWHERE Survived = 0 AND Age IS NOT NULL'}`\n",
      "responded: [{'type': 'text', 'text': \"\\n\\n\\n\\nThe query looks correct. Now let's execute it:\", 'index': 0}, {'type': 'tool_use', 'name': 'sql_db_query', 'id': 'tooluse_uCZgtPcTSVenYuzu-Ap4KA', 'index': 1, 'input': '{\"query\": \"SELECT AVG(Age) as average_age\\\\nFROM titanic\\\\nWHERE Survived = 0 AND Age IS NOT NULL\"}'}]\n",
      "\n",
      "\u001b[0m\u001b[36;1m\u001b[1;3m[(30.13853211009174,)]\u001b[0m\u001b[32;1m\u001b[1;3m[{'type': 'text', 'text': '\\n\\n\\n\\nNow I can answer the question based on the query results.\\n\\nThe average age of people who did not survive on the Titanic is approximately 30.14 years old.', 'index': 0}]\u001b[0m\n",
      "\n",
      "\u001b[1m> Finished chain.\u001b[0m\n"
     ]
    },
    {
     "data": {
      "text/plain": [
       "{'input': \"what's the average age of people not survived\",\n",
       " 'output': [{'type': 'text',\n",
       "   'text': '\\n\\n\\n\\nNow I can answer the question based on the query results.\\n\\nThe average age of people who did not survive on the Titanic is approximately 30.14 years old.',\n",
       "   'index': 0}]}"
      ]
     },
     "execution_count": 12,
     "metadata": {},
     "output_type": "execute_result"
    }
   ],
   "source": [
    "agent_executor.invoke({\"input\": \"what's the average age of people not survived\"})"
   ]
  },
  {
   "cell_type": "code",
   "execution_count": 13,
   "id": "9419885b-0c84-474f-b11d-411d44ff6d41",
   "metadata": {},
   "outputs": [
    {
     "name": "stdout",
     "output_type": "stream",
     "text": [
      "\n",
      "\n",
      "\u001b[1m> Entering new SQL Agent Executor chain...\u001b[0m\n",
      "\u001b[32;1m\u001b[1;3m\n",
      "Invoking: `sql_db_list_tables` with `{'tool_input': ''}`\n",
      "responded: [{'type': 'text', 'text': \"  Finally, I should query the database to answer the question.\\n\\nI don't know the names of the tables in the database, so I'll start by listing them:\", 'index': 0}, {'type': 'tool_use', 'name': 'sql_db_list_tables', 'id': 'tooluse_v3w-oGnNRzKjvj20Ao-GKQ', 'index': 1, 'input': '{\"tool_input\": \"\"}'}]\n",
      "\n",
      "\u001b[0m\u001b[38;5;200m\u001b[1;3mtitanic\u001b[0m\u001b[32;1m\u001b[1;3m[{'type': 'text', 'text': '\\n\\nThe database contains only one table: \"titanic\". This table is unlikely to contain information about my name. As an AI assistant, I don\\'t have a personal name, and the information about me wouldn\\'t be stored in a database about the Titanic.\\n\\nGiven this information, I can confidently say:\\n\\nI don\\'t know. The database available to me contains information about the Titanic, which is not related to my name or identity as an AI assistant.', 'index': 0}]\u001b[0m\n",
      "\n",
      "\u001b[1m> Finished chain.\u001b[0m\n"
     ]
    },
    {
     "data": {
      "text/plain": [
       "{'input': \"what's is your name \",\n",
       " 'output': [{'type': 'text',\n",
       "   'text': '\\n\\nThe database contains only one table: \"titanic\". This table is unlikely to contain information about my name. As an AI assistant, I don\\'t have a personal name, and the information about me wouldn\\'t be stored in a database about the Titanic.\\n\\nGiven this information, I can confidently say:\\n\\nI don\\'t know. The database available to me contains information about the Titanic, which is not related to my name or identity as an AI assistant.',\n",
       "   'index': 0}]}"
      ]
     },
     "execution_count": 13,
     "metadata": {},
     "output_type": "execute_result"
    }
   ],
   "source": [
    "agent_executor.invoke({\"input\": \"what's is your name \"})"
   ]
  }
 ],
 "metadata": {
  "kernelspec": {
   "display_name": "conda_python3",
   "language": "python",
   "name": "conda_python3"
  },
  "language_info": {
   "codemirror_mode": {
    "name": "ipython",
    "version": 3
   },
   "file_extension": ".py",
   "mimetype": "text/x-python",
   "name": "python",
   "nbconvert_exporter": "python",
   "pygments_lexer": "ipython3",
   "version": "3.10.18"
  }
 },
 "nbformat": 4,
 "nbformat_minor": 5
}
